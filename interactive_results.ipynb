{
 "cells": [
  {
   "cell_type": "code",
   "execution_count": 2,
   "id": "9e2b4274",
   "metadata": {},
   "outputs": [
    {
     "ename": "NameError",
     "evalue": "name '__file__' is not defined",
     "output_type": "error",
     "traceback": [
      "\u001b[1;31m---------------------------------------------------------------------------\u001b[0m",
      "\u001b[1;31mNameError\u001b[0m                                 Traceback (most recent call last)",
      "\u001b[1;32m<ipython-input-2-5500d291a87d>\u001b[0m in \u001b[0;36m<module>\u001b[1;34m\u001b[0m\n\u001b[0;32m      7\u001b[0m \u001b[1;33m\u001b[0m\u001b[0m\n\u001b[0;32m      8\u001b[0m \u001b[1;33m\u001b[0m\u001b[0m\n\u001b[1;32m----> 9\u001b[1;33m \u001b[0mos\u001b[0m\u001b[1;33m.\u001b[0m\u001b[0mchdir\u001b[0m\u001b[1;33m(\u001b[0m\u001b[0mos\u001b[0m\u001b[1;33m.\u001b[0m\u001b[0mpath\u001b[0m\u001b[1;33m.\u001b[0m\u001b[0mdirname\u001b[0m\u001b[1;33m(\u001b[0m\u001b[0mos\u001b[0m\u001b[1;33m.\u001b[0m\u001b[0mpath\u001b[0m\u001b[1;33m.\u001b[0m\u001b[0mrealpath\u001b[0m\u001b[1;33m(\u001b[0m\u001b[0m__file__\u001b[0m\u001b[1;33m)\u001b[0m\u001b[1;33m)\u001b[0m\u001b[1;33m)\u001b[0m\u001b[1;33m\u001b[0m\u001b[1;33m\u001b[0m\u001b[0m\n\u001b[0m",
      "\u001b[1;31mNameError\u001b[0m: name '__file__' is not defined"
     ]
    }
   ],
   "source": [
    "import folium\n",
    "import pandas as pd\n",
    "import geopandas as gpd\n",
    "import numpy as np\n",
    "import os\n",
    "import branca\n",
    "\n",
    "\n",
    "os.chdir(os.path.dirname(os.path.realpath(__file__)))"
   ]
  },
  {
   "cell_type": "markdown",
   "id": "e42ae2d2",
   "metadata": {},
   "source": [
    "## Task One: summarizing number of solar panels and Jul-Jan GHI difference for MA\n"
   ]
  },
  {
   "cell_type": "code",
   "execution_count": null,
   "id": "6cd1d3f4",
   "metadata": {},
   "outputs": [],
   "source": [
    "data = pd.read_csv('zip_stats.csv')\n",
    "data.display()"
   ]
  },
  {
   "cell_type": "code",
   "execution_count": null,
   "id": "4f81b0c9",
   "metadata": {},
   "outputs": [],
   "source": [
    "import pandas as pd\n",
    "\n",
    "\n",
    "data = gpd.read_file('outputs\\high_jan_ghi.geojson') \n",
    "data['idx'] = np.arange(len(data))\n",
    "data['GHI'] = [round(i, 1) for i in data['ghi']]\n",
    "min_ghi = np.min(data['GHI'])\n",
    "max_ghi = np.max(data['GHI'])\n",
    "                     \n",
    "colorscale = branca.colormap.linear.YlOrRd_09.scale(min_ghi, max_ghi)\n",
    "ghi_series = data.set_index(\"idx\")[\"GHI\"]\n",
    "\n",
    "\n",
    "def style_function(feature):\n",
    "    ghi = ghi_series.get(int(feature[\"id\"][-5:]), None)\n",
    "    return {\n",
    "        \"fillOpacity\": 0.9,\n",
    "        \"weight\": 0,\n",
    "        \"fillColor\": \"#black\" if ghi is None else colorscale(ghi),\n",
    "    }\n",
    "\n",
    "\n",
    "m = folium.Map([42.4, -71], zoom_start=8, tiles='Stamen Toner')\n",
    "h = folium.GeoJson(data,\n",
    "              style_function=style_function).add_to(m)\n",
    "h.add_child(\n",
    "    folium.features.GeoJsonTooltip(['GHI'], labels=False)\n",
    ")\n",
    "\n",
    "m "
   ]
  },
  {
   "cell_type": "markdown",
   "id": "239fa980",
   "metadata": {},
   "source": [
    "## Task "
   ]
  },
  {
   "cell_type": "code",
   "execution_count": null,
   "id": "e28b4818",
   "metadata": {},
   "outputs": [],
   "source": [
    "\n",
    "import os\n",
    "import folium\n",
    "\n",
    "m = folium.Map([42.3782, -71.06309], zoom_start=14, tiles=\"OpenStreetMap\")\n",
    "\n",
    "img = folium.raster_layers.ImageOverlay(\n",
    "    name=\"Mercator projection SW\",\n",
    "    image=r'C:\\garrett_workspace\\PROJECTS\\github\\geospatial_exercise\\intermediate_data\\hs2.jpg',\n",
    "    bounds=[[42.369275, -71.080845], [42.390549, -71.047266]],\n",
    "    opacity=1,\n",
    "    interactive=True,\n",
    "    cross_origin=False,\n",
    "    zindex=1,\n",
    ")\n",
    "\n",
    "folium.Popup(\"I am an image\").add_to(img)\n",
    "\n",
    "img.add_to(m)\n",
    "folium.LayerControl().add_to(m)\n",
    "m\n"
   ]
  },
  {
   "cell_type": "code",
   "execution_count": null,
   "id": "59659d0d",
   "metadata": {},
   "outputs": [],
   "source": [
    "import pandas as pd\n",
    "import branca\n",
    "\n",
    "One = gpd.read_file(r'C:\\garrett_workspace\\PROJECTS\\github\\geospatial_exercise\\outputs\\charlestown_buildings_heights.shp') \n",
    "One['idx'] = np.arange(len(One))\n",
    "One['height '] = [round(i, 1) for i in One['height']]\n",
    "min_ghi = np.min(One['height '])\n",
    "max_ghi = np.max(One['height '])\n",
    "colorscale = branca.colormap.linear.YlOrRd_09.scale(min_ghi, max_ghi)\n",
    "employed_series = One.set_index(\"idx\")[\"height \"]\n",
    "\n",
    "\n",
    "def style_function(feature):\n",
    "    employed = employed_series.get(int(feature[\"id\"][-5:]), None)\n",
    "    return {\n",
    "        \"fillOpacity\": 0.9,\n",
    "        \"weight\": 0,\n",
    "        \"fillColor\": \"#black\" if employed is None else colorscale(employed),\n",
    "    }\n",
    "\n",
    "\n",
    "mapa = folium.Map([42.3782, -71.06309], zoom_start=14, tiles=\"OpenStreetMap\")\n",
    "h = folium.GeoJson(One,\n",
    "              style_function=style_function).add_to(mapa)\n",
    "h.add_child(\n",
    "    folium.features.GeoJsonTooltip(['height '], labels=True)\n",
    ")\n",
    "\n",
    "mapa "
   ]
  },
  {
   "cell_type": "code",
   "execution_count": null,
   "id": "a6ceaa25",
   "metadata": {},
   "outputs": [],
   "source": []
  }
 ],
 "metadata": {
  "kernelspec": {
   "display_name": "Python [conda env:gis] *",
   "language": "python",
   "name": "conda-env-gis-py"
  },
  "language_info": {
   "codemirror_mode": {
    "name": "ipython",
    "version": 3
   },
   "file_extension": ".py",
   "mimetype": "text/x-python",
   "name": "python",
   "nbconvert_exporter": "python",
   "pygments_lexer": "ipython3",
   "version": "3.7.10"
  }
 },
 "nbformat": 4,
 "nbformat_minor": 5
}
